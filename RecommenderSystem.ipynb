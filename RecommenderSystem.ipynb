{
 "cells": [
  {
   "cell_type": "markdown",
   "metadata": {},
   "source": [
    "# Article Recommender System\n",
    "**About the data** - [Source](https://www.kaggle.com/gspmoreira/recommender-systems-in-python-101/data) This file contains information about the articles shared in the platform. \n",
    "Each article has its sharing date (timestamp), the original url, title, content in plain text, the article' lang (Portuguese - pt or English - en) and information about the user who shared the article (author).\n",
    "\n",
    "There are two possible event types at a given timestamp: \n",
    "- CONTENT SHARED: The article was shared in the platform and is available for users. \n",
    "- CONTENT REMOVED: The article was removed from the platform and not available for further recommendation.\n",
    "\n",
    "**Aim** - Build recommender systems for sharing these articles\n",
    "\n",
    "### Importing libraries"
   ]
  },
  {
   "cell_type": "code",
   "execution_count": 42,
   "metadata": {
    "collapsed": true
   },
   "outputs": [],
   "source": [
    "%matplotlib inline\n",
    "import pandas as pd\n",
    "import matplotlib.pyplot as plt\n",
    "import numpy as np\n",
    "import math"
   ]
  },
  {
   "cell_type": "code",
   "execution_count": 43,
   "metadata": {},
   "outputs": [],
   "source": [
    "# Loading data\n",
    "articles_df = pd.read_csv('data/shared_articles.csv')\n",
    "# Choosing only the shared articles\n",
    "articles_df = articles_df[articles_df['eventType'] == 'CONTENT SHARED']\n",
    "\n",
    "# Loading how users interact with data\n",
    "interactions_df = pd.read_csv('data/users_interactions.csv')\n"
   ]
  },
  {
   "cell_type": "markdown",
   "metadata": {},
   "source": [
    "### Data cleaning"
   ]
  },
  {
   "cell_type": "code",
   "execution_count": 44,
   "metadata": {},
   "outputs": [
    {
     "name": "stdout",
     "output_type": "stream",
     "text": [
      "Unique user/item interactions: 40710\n"
     ]
    }
   ],
   "source": [
    "# Creating a new column to quantify the degree of interaction\n",
    "# Weights are assigned by me\n",
    "event_type_strength = {\n",
    "   'VIEW': 1.0,\n",
    "   'LIKE': 2.0, \n",
    "   'BOOKMARK': 3.0, \n",
    "   'FOLLOW': 4.0,\n",
    "   'COMMENT CREATED': 5.0,  \n",
    "}\n",
    "\n",
    "interactions_df['eventStrength'] = interactions_df['eventType'].apply(lambda x: event_type_strength[x])\n",
    "\n",
    "# Making interactions a smooth function\n",
    "def smooth_user_preference(x):\n",
    "    \"\"\"Return a log transformation\"\"\"\n",
    "    return math.log(1+x, 2)\n",
    "    \n",
    "interactions_df = interactions_df \\\n",
    "                    .groupby(['personId', 'contentId'])['eventStrength'].sum() \\\n",
    "                    .apply(smooth_user_preference).reset_index()\n",
    "print('Unique user/item interactions: %d' % len(interactions_df))\n"
   ]
  },
  {
   "cell_type": "code",
   "execution_count": 45,
   "metadata": {},
   "outputs": [
    {
     "name": "stdout",
     "output_type": "stream",
     "text": [
      "Total users = 1895\n",
      "Users after filtering = 1140\n"
     ]
    }
   ],
   "source": [
    "# Only taking users with at least5 interaction\n",
    "# Such that we have enough information to recommend\n",
    "count_df = interactions_df.groupby(['personId', 'contentId']).size().groupby('personId').size()\n",
    "print('Total users = %d' % len(count_df))\n",
    "users_with_enough_interactions_df = count_df[count_df >= 5].reset_index()[['personId']]\n",
    "print('Users after filtering = %d' % len(users_with_enough_interactions_df))"
   ]
  },
  {
   "cell_type": "code",
   "execution_count": 46,
   "metadata": {},
   "outputs": [
    {
     "name": "stdout",
     "output_type": "stream",
     "text": [
      "Total interactions = 40710\n",
      "Interactions after filtering = 39106\n"
     ]
    }
   ],
   "source": [
    "# Removing less than 5 interactions from the originals interaction dataset\n",
    "print('Total interactions = %d' % len(interactions_df))\n",
    "interactions_from_selected_users_df = interactions_df.merge(users_with_enough_interactions_df, \n",
    "               how = 'right',\n",
    "               left_on = 'personId',\n",
    "               right_on = 'personId')\n",
    "print('Interactions after filtering = %d' % len(interactions_from_selected_users_df))"
   ]
  },
  {
   "cell_type": "code",
   "execution_count": null,
   "metadata": {},
   "outputs": [],
   "source": []
  },
  {
   "cell_type": "code",
   "execution_count": null,
   "metadata": {},
   "outputs": [],
   "source": []
  },
  {
   "cell_type": "code",
   "execution_count": null,
   "metadata": {
    "collapsed": true
   },
   "outputs": [],
   "source": []
  }
 ],
 "metadata": {
  "kernelspec": {
   "display_name": "Python 2",
   "language": "python",
   "name": "python2"
  },
  "language_info": {
   "codemirror_mode": {
    "name": "ipython",
    "version": 2
   },
   "file_extension": ".py",
   "mimetype": "text/x-python",
   "name": "python",
   "nbconvert_exporter": "python",
   "pygments_lexer": "ipython2",
   "version": "2.7.15"
  }
 },
 "nbformat": 4,
 "nbformat_minor": 2
}
